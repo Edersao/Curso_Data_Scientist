{
  "nbformat": 4,
  "nbformat_minor": 0,
  "metadata": {
    "colab": {
      "provenance": [],
      "authorship_tag": "ABX9TyMDT9R0mIcsBKotB6w7oF2h",
      "include_colab_link": true
    },
    "kernelspec": {
      "name": "python3",
      "display_name": "Python 3"
    },
    "language_info": {
      "name": "python"
    }
  },
  "cells": [
    {
      "cell_type": "markdown",
      "metadata": {
        "id": "view-in-github",
        "colab_type": "text"
      },
      "source": [
        "<a href=\"https://colab.research.google.com/github/Edersao/Curso_Data_Scientist/blob/main/estructura_datos_tipode_gr%C3%A1ficas.ipynb\" target=\"_parent\"><img src=\"https://colab.research.google.com/assets/colab-badge.svg\" alt=\"Open In Colab\"/></a>"
      ]
    },
    {
      "cell_type": "code",
      "execution_count": 2,
      "metadata": {
        "id": "OcT0WvKK8Is9",
        "colab": {
          "base_uri": "https://localhost:8080/"
        },
        "outputId": "40fcc298-ae12-4951-8733-4280edc7bc33"
      },
      "outputs": [
        {
          "output_type": "stream",
          "name": "stdout",
          "text": [
            "Mounted at /content/drive\n"
          ]
        }
      ],
      "source": [
        "from google.colab import drive\n",
        "drive.mount('/content/drive')"
      ]
    },
    {
      "cell_type": "markdown",
      "source": [
        "Lectura de datos birth y death, que\n",
        "almacenan, por país, las tasas brutas de natalidad y mortalidad desde 1960. La tasa bruta de\n",
        "natalidad indica el número de nacidos vivos que se producen durante el año, por cada 1.000\n",
        "habitantes. Análogamente se define la de mortalidad."
      ],
      "metadata": {
        "id": "b-P-MP-Ce00q"
      }
    },
    {
      "cell_type": "code",
      "source": [
        "import pandas as pd\n",
        "import matplotlib.pyplot as plt\n",
        "import seaborn as sns\n",
        "import numpy as np"
      ],
      "metadata": {
        "id": "6sMldw7ye6ER"
      },
      "execution_count": 1,
      "outputs": []
    },
    {
      "cell_type": "code",
      "source": [
        "birth=pd.read_csv('/content/drive/MyDrive/Colab Notebooks/datos/visualizacion/1698424162537-Birth.csv')\n",
        "death=pd.read_csv('/content/drive/MyDrive/Colab Notebooks/datos/visualizacion/1698424155860-Death.csv')\n",
        "print(birth.head(),death.head(),sep='\\n')"
      ],
      "metadata": {
        "colab": {
          "base_uri": "https://localhost:8080/"
        },
        "id": "fFdfyx1Df2UX",
        "outputId": "fff92208-87eb-4171-ac95-f1395d90e3bb"
      },
      "execution_count": 140,
      "outputs": [
        {
          "output_type": "stream",
          "name": "stdout",
          "text": [
            "  Country Name Country Code    1960    1961    1962    1963    1964    1965  \\\n",
            "0        Aruba          ABW  35.679  34.529  33.320  32.050  30.737  29.413   \n",
            "1  Afghanistan          AFG  51.279  51.373  51.457  51.530  51.589  51.631   \n",
            "2       Angola          AGO  49.080  48.779  48.547  48.430  48.450  48.622   \n",
            "3      Albania          ALB  40.924  40.368  39.627  38.723  37.695  36.599   \n",
            "4      Andorra          AND     NaN     NaN     NaN     NaN     NaN     NaN   \n",
            "\n",
            "     1966    1967  ...    2009    2010    2011    2012    2013    2014  \\\n",
            "0  28.121  26.908  ...  11.361  11.214  11.123  11.090  11.111  11.179   \n",
            "1  51.652  51.650  ...  40.903  39.829  38.750  37.690  36.670  35.706   \n",
            "2  48.936  49.343  ...  46.143  45.656  45.102  44.493  43.847  43.182   \n",
            "3  35.496  34.435  ...  11.945  12.001  12.100  12.197  12.257  12.259   \n",
            "4     NaN     NaN  ...   9.900   9.800     NaN   9.500     NaN     NaN   \n",
            "\n",
            "     2015    2016    2017    2018  \n",
            "0  11.281  11.404  11.532  11.652  \n",
            "1  34.809  33.981  33.211  32.487  \n",
            "2  42.520  41.882  41.281  40.729  \n",
            "3  12.197  12.080  11.934  11.780  \n",
            "4     NaN   8.800     NaN   7.200  \n",
            "\n",
            "[5 rows x 61 columns]\n",
            "  Country Name Country Code    1960    1961    1962    1963    1964    1965  \\\n",
            "0        Aruba          ABW   6.388   6.241   6.118   6.012   5.920   5.839   \n",
            "1  Afghanistan          AFG  32.219  31.649  31.093  30.551  30.022  29.501   \n",
            "2       Angola          AGO  27.097  26.859  26.627  26.407  26.194  25.966   \n",
            "3      Albania          ALB  11.326  10.719  10.175   9.707   9.320   9.009   \n",
            "4      Andorra          AND     NaN     NaN     NaN     NaN     NaN     NaN   \n",
            "\n",
            "     1966    1967  ...    2009    2010    2011    2012   2013   2014   2015  \\\n",
            "0   5.770   5.716  ...   7.780   7.918   8.061   8.205  8.347  8.488  8.627   \n",
            "1  28.985  28.468  ...   8.584   8.250   7.936   7.645  7.380  7.141  6.929   \n",
            "2  25.690  25.342  ...  12.367  11.680  11.039  10.451  9.921  9.454  9.052   \n",
            "3   8.762   8.555  ...   6.756   6.841   6.915   6.996  7.096  7.219  7.367   \n",
            "4     NaN     NaN  ...   3.200   2.800     NaN   3.900    NaN    NaN    NaN   \n",
            "\n",
            "    2016   2017   2018  \n",
            "0  8.765  8.907  9.053  \n",
            "1  6.742  6.575  6.423  \n",
            "2  8.716  8.432  8.190  \n",
            "3  7.534  7.714  7.898  \n",
            "4  4.300    NaN  4.400  \n",
            "\n",
            "[5 rows x 61 columns]\n"
          ]
        }
      ]
    },
    {
      "cell_type": "markdown",
      "source": [
        "Obteniendo datos solo de México"
      ],
      "metadata": {
        "id": "yg2mbUTgg0Ei"
      }
    },
    {
      "cell_type": "code",
      "source": [
        "# selección de datos anuales de Mexico\n",
        "birth_M= birth.loc[birth['Country Name'] == 'Mexico']\n",
        "death_M=death.loc[death['Country Name'] == 'Mexico']\n",
        "#borramos columnas que se requieren\n",
        "birth_M.drop(['Country Code','Country Name'],axis=1,inplace=True)\n",
        "death_M.drop(['Country Code','Country Name'],axis=1,inplace=True)\n",
        "# hacemos la transpuesta  para tener indice de años\n",
        "birth_M, death_M= birth_M.T, death_M.T\n",
        "birth_M.index.name, death_M.index.name='Years','Years'\n",
        "birth_M.columns.name, death_M.columns.name= '',''\n",
        "birth_M.rename(columns={152:'Birth'},inplace=True), death_M.rename(columns={152:'Deaths'},inplace=True)\n",
        "# juntamos dataframe\n",
        "mexico=pd.merge(left=birth_M,right=death_M,left_on='Years',right_on='Years')\n",
        "mexico.head()"
      ],
      "metadata": {
        "colab": {
          "base_uri": "https://localhost:8080/",
          "height": 431
        },
        "id": "-kV2GNdJgtmK",
        "outputId": "c9be226e-e133-4b2d-8434-9d382c6c77ea"
      },
      "execution_count": 34,
      "outputs": [
        {
          "output_type": "stream",
          "name": "stderr",
          "text": [
            "<ipython-input-34-20b75335ae37>:5: SettingWithCopyWarning: \n",
            "A value is trying to be set on a copy of a slice from a DataFrame\n",
            "\n",
            "See the caveats in the documentation: https://pandas.pydata.org/pandas-docs/stable/user_guide/indexing.html#returning-a-view-versus-a-copy\n",
            "  birth_M.drop(['Country Code','Country Name'],axis=1,inplace=True)\n",
            "<ipython-input-34-20b75335ae37>:6: SettingWithCopyWarning: \n",
            "A value is trying to be set on a copy of a slice from a DataFrame\n",
            "\n",
            "See the caveats in the documentation: https://pandas.pydata.org/pandas-docs/stable/user_guide/indexing.html#returning-a-view-versus-a-copy\n",
            "  death_M.drop(['Country Code','Country Name'],axis=1,inplace=True)\n"
          ]
        },
        {
          "output_type": "execute_result",
          "data": {
            "text/plain": [
              "        Birth  Deaths\n",
              "Years                \n",
              "1960   45.179  12.270\n",
              "1961   44.919  11.915\n",
              "1962   44.698  11.610\n",
              "1963   44.517  11.346\n",
              "1964   44.366  11.114"
            ],
            "text/html": [
              "\n",
              "  <div id=\"df-c1a7978d-91a5-4406-83b4-5b8356e67a39\" class=\"colab-df-container\">\n",
              "    <div>\n",
              "<style scoped>\n",
              "    .dataframe tbody tr th:only-of-type {\n",
              "        vertical-align: middle;\n",
              "    }\n",
              "\n",
              "    .dataframe tbody tr th {\n",
              "        vertical-align: top;\n",
              "    }\n",
              "\n",
              "    .dataframe thead th {\n",
              "        text-align: right;\n",
              "    }\n",
              "</style>\n",
              "<table border=\"1\" class=\"dataframe\">\n",
              "  <thead>\n",
              "    <tr style=\"text-align: right;\">\n",
              "      <th></th>\n",
              "      <th>Birth</th>\n",
              "      <th>Deaths</th>\n",
              "    </tr>\n",
              "    <tr>\n",
              "      <th>Years</th>\n",
              "      <th></th>\n",
              "      <th></th>\n",
              "    </tr>\n",
              "  </thead>\n",
              "  <tbody>\n",
              "    <tr>\n",
              "      <th>1960</th>\n",
              "      <td>45.179</td>\n",
              "      <td>12.270</td>\n",
              "    </tr>\n",
              "    <tr>\n",
              "      <th>1961</th>\n",
              "      <td>44.919</td>\n",
              "      <td>11.915</td>\n",
              "    </tr>\n",
              "    <tr>\n",
              "      <th>1962</th>\n",
              "      <td>44.698</td>\n",
              "      <td>11.610</td>\n",
              "    </tr>\n",
              "    <tr>\n",
              "      <th>1963</th>\n",
              "      <td>44.517</td>\n",
              "      <td>11.346</td>\n",
              "    </tr>\n",
              "    <tr>\n",
              "      <th>1964</th>\n",
              "      <td>44.366</td>\n",
              "      <td>11.114</td>\n",
              "    </tr>\n",
              "  </tbody>\n",
              "</table>\n",
              "</div>\n",
              "    <div class=\"colab-df-buttons\">\n",
              "\n",
              "  <div class=\"colab-df-container\">\n",
              "    <button class=\"colab-df-convert\" onclick=\"convertToInteractive('df-c1a7978d-91a5-4406-83b4-5b8356e67a39')\"\n",
              "            title=\"Convert this dataframe to an interactive table.\"\n",
              "            style=\"display:none;\">\n",
              "\n",
              "  <svg xmlns=\"http://www.w3.org/2000/svg\" height=\"24px\" viewBox=\"0 -960 960 960\">\n",
              "    <path d=\"M120-120v-720h720v720H120Zm60-500h600v-160H180v160Zm220 220h160v-160H400v160Zm0 220h160v-160H400v160ZM180-400h160v-160H180v160Zm440 0h160v-160H620v160ZM180-180h160v-160H180v160Zm440 0h160v-160H620v160Z\"/>\n",
              "  </svg>\n",
              "    </button>\n",
              "\n",
              "  <style>\n",
              "    .colab-df-container {\n",
              "      display:flex;\n",
              "      gap: 12px;\n",
              "    }\n",
              "\n",
              "    .colab-df-convert {\n",
              "      background-color: #E8F0FE;\n",
              "      border: none;\n",
              "      border-radius: 50%;\n",
              "      cursor: pointer;\n",
              "      display: none;\n",
              "      fill: #1967D2;\n",
              "      height: 32px;\n",
              "      padding: 0 0 0 0;\n",
              "      width: 32px;\n",
              "    }\n",
              "\n",
              "    .colab-df-convert:hover {\n",
              "      background-color: #E2EBFA;\n",
              "      box-shadow: 0px 1px 2px rgba(60, 64, 67, 0.3), 0px 1px 3px 1px rgba(60, 64, 67, 0.15);\n",
              "      fill: #174EA6;\n",
              "    }\n",
              "\n",
              "    .colab-df-buttons div {\n",
              "      margin-bottom: 4px;\n",
              "    }\n",
              "\n",
              "    [theme=dark] .colab-df-convert {\n",
              "      background-color: #3B4455;\n",
              "      fill: #D2E3FC;\n",
              "    }\n",
              "\n",
              "    [theme=dark] .colab-df-convert:hover {\n",
              "      background-color: #434B5C;\n",
              "      box-shadow: 0px 1px 3px 1px rgba(0, 0, 0, 0.15);\n",
              "      filter: drop-shadow(0px 1px 2px rgba(0, 0, 0, 0.3));\n",
              "      fill: #FFFFFF;\n",
              "    }\n",
              "  </style>\n",
              "\n",
              "    <script>\n",
              "      const buttonEl =\n",
              "        document.querySelector('#df-c1a7978d-91a5-4406-83b4-5b8356e67a39 button.colab-df-convert');\n",
              "      buttonEl.style.display =\n",
              "        google.colab.kernel.accessAllowed ? 'block' : 'none';\n",
              "\n",
              "      async function convertToInteractive(key) {\n",
              "        const element = document.querySelector('#df-c1a7978d-91a5-4406-83b4-5b8356e67a39');\n",
              "        const dataTable =\n",
              "          await google.colab.kernel.invokeFunction('convertToInteractive',\n",
              "                                                    [key], {});\n",
              "        if (!dataTable) return;\n",
              "\n",
              "        const docLinkHtml = 'Like what you see? Visit the ' +\n",
              "          '<a target=\"_blank\" href=https://colab.research.google.com/notebooks/data_table.ipynb>data table notebook</a>'\n",
              "          + ' to learn more about interactive tables.';\n",
              "        element.innerHTML = '';\n",
              "        dataTable['output_type'] = 'display_data';\n",
              "        await google.colab.output.renderOutput(dataTable, element);\n",
              "        const docLink = document.createElement('div');\n",
              "        docLink.innerHTML = docLinkHtml;\n",
              "        element.appendChild(docLink);\n",
              "      }\n",
              "    </script>\n",
              "  </div>\n",
              "\n",
              "\n",
              "<div id=\"df-8eeedb61-5466-4436-b1e5-0a3f01dfd502\">\n",
              "  <button class=\"colab-df-quickchart\" onclick=\"quickchart('df-8eeedb61-5466-4436-b1e5-0a3f01dfd502')\"\n",
              "            title=\"Suggest charts\"\n",
              "            style=\"display:none;\">\n",
              "\n",
              "<svg xmlns=\"http://www.w3.org/2000/svg\" height=\"24px\"viewBox=\"0 0 24 24\"\n",
              "     width=\"24px\">\n",
              "    <g>\n",
              "        <path d=\"M19 3H5c-1.1 0-2 .9-2 2v14c0 1.1.9 2 2 2h14c1.1 0 2-.9 2-2V5c0-1.1-.9-2-2-2zM9 17H7v-7h2v7zm4 0h-2V7h2v10zm4 0h-2v-4h2v4z\"/>\n",
              "    </g>\n",
              "</svg>\n",
              "  </button>\n",
              "\n",
              "<style>\n",
              "  .colab-df-quickchart {\n",
              "      --bg-color: #E8F0FE;\n",
              "      --fill-color: #1967D2;\n",
              "      --hover-bg-color: #E2EBFA;\n",
              "      --hover-fill-color: #174EA6;\n",
              "      --disabled-fill-color: #AAA;\n",
              "      --disabled-bg-color: #DDD;\n",
              "  }\n",
              "\n",
              "  [theme=dark] .colab-df-quickchart {\n",
              "      --bg-color: #3B4455;\n",
              "      --fill-color: #D2E3FC;\n",
              "      --hover-bg-color: #434B5C;\n",
              "      --hover-fill-color: #FFFFFF;\n",
              "      --disabled-bg-color: #3B4455;\n",
              "      --disabled-fill-color: #666;\n",
              "  }\n",
              "\n",
              "  .colab-df-quickchart {\n",
              "    background-color: var(--bg-color);\n",
              "    border: none;\n",
              "    border-radius: 50%;\n",
              "    cursor: pointer;\n",
              "    display: none;\n",
              "    fill: var(--fill-color);\n",
              "    height: 32px;\n",
              "    padding: 0;\n",
              "    width: 32px;\n",
              "  }\n",
              "\n",
              "  .colab-df-quickchart:hover {\n",
              "    background-color: var(--hover-bg-color);\n",
              "    box-shadow: 0 1px 2px rgba(60, 64, 67, 0.3), 0 1px 3px 1px rgba(60, 64, 67, 0.15);\n",
              "    fill: var(--button-hover-fill-color);\n",
              "  }\n",
              "\n",
              "  .colab-df-quickchart-complete:disabled,\n",
              "  .colab-df-quickchart-complete:disabled:hover {\n",
              "    background-color: var(--disabled-bg-color);\n",
              "    fill: var(--disabled-fill-color);\n",
              "    box-shadow: none;\n",
              "  }\n",
              "\n",
              "  .colab-df-spinner {\n",
              "    border: 2px solid var(--fill-color);\n",
              "    border-color: transparent;\n",
              "    border-bottom-color: var(--fill-color);\n",
              "    animation:\n",
              "      spin 1s steps(1) infinite;\n",
              "  }\n",
              "\n",
              "  @keyframes spin {\n",
              "    0% {\n",
              "      border-color: transparent;\n",
              "      border-bottom-color: var(--fill-color);\n",
              "      border-left-color: var(--fill-color);\n",
              "    }\n",
              "    20% {\n",
              "      border-color: transparent;\n",
              "      border-left-color: var(--fill-color);\n",
              "      border-top-color: var(--fill-color);\n",
              "    }\n",
              "    30% {\n",
              "      border-color: transparent;\n",
              "      border-left-color: var(--fill-color);\n",
              "      border-top-color: var(--fill-color);\n",
              "      border-right-color: var(--fill-color);\n",
              "    }\n",
              "    40% {\n",
              "      border-color: transparent;\n",
              "      border-right-color: var(--fill-color);\n",
              "      border-top-color: var(--fill-color);\n",
              "    }\n",
              "    60% {\n",
              "      border-color: transparent;\n",
              "      border-right-color: var(--fill-color);\n",
              "    }\n",
              "    80% {\n",
              "      border-color: transparent;\n",
              "      border-right-color: var(--fill-color);\n",
              "      border-bottom-color: var(--fill-color);\n",
              "    }\n",
              "    90% {\n",
              "      border-color: transparent;\n",
              "      border-bottom-color: var(--fill-color);\n",
              "    }\n",
              "  }\n",
              "</style>\n",
              "\n",
              "  <script>\n",
              "    async function quickchart(key) {\n",
              "      const quickchartButtonEl =\n",
              "        document.querySelector('#' + key + ' button');\n",
              "      quickchartButtonEl.disabled = true;  // To prevent multiple clicks.\n",
              "      quickchartButtonEl.classList.add('colab-df-spinner');\n",
              "      try {\n",
              "        const charts = await google.colab.kernel.invokeFunction(\n",
              "            'suggestCharts', [key], {});\n",
              "      } catch (error) {\n",
              "        console.error('Error during call to suggestCharts:', error);\n",
              "      }\n",
              "      quickchartButtonEl.classList.remove('colab-df-spinner');\n",
              "      quickchartButtonEl.classList.add('colab-df-quickchart-complete');\n",
              "    }\n",
              "    (() => {\n",
              "      let quickchartButtonEl =\n",
              "        document.querySelector('#df-8eeedb61-5466-4436-b1e5-0a3f01dfd502 button');\n",
              "      quickchartButtonEl.style.display =\n",
              "        google.colab.kernel.accessAllowed ? 'block' : 'none';\n",
              "    })();\n",
              "  </script>\n",
              "</div>\n",
              "\n",
              "    </div>\n",
              "  </div>\n"
            ]
          },
          "metadata": {},
          "execution_count": 34
        }
      ]
    },
    {
      "cell_type": "code",
      "source": [
        "sns.set_style('whitegrid')\n",
        "sns.lineplot(data=mexico)\n",
        "plt.xticks(np.arange(0,len(mexico+1),5))\n",
        "plt.xticks(rotation=90)\n",
        "plt.title('Taza por 1000 personas',fontsize=20, horizontalalignment='left')\n",
        "plt.xlabel('',fontsize=20)"
      ],
      "metadata": {
        "colab": {
          "base_uri": "https://localhost:8080/",
          "height": 499
        },
        "id": "Q6v-aiLKhI_r",
        "outputId": "f0cd0680-a68a-42ad-f587-73ed3c10ef65"
      },
      "execution_count": 42,
      "outputs": [
        {
          "output_type": "execute_result",
          "data": {
            "text/plain": [
              "Text(0.5, 0, '')"
            ]
          },
          "metadata": {},
          "execution_count": 42
        },
        {
          "output_type": "display_data",
          "data": {
            "text/plain": [
              "<Figure size 640x480 with 1 Axes>"
            ],
            "image/png": "[encoded data removed]"
          },
          "metadata": {}
        }
      ]
    },
    {
      "cell_type": "markdown",
      "source": [
        "De los datos death determinar los tres países con la tasa de mortalidad más alta en el 2018. Graficar esos países junto con Mexico y otro país de elección."
      ],
      "metadata": {
        "id": "l7qy2cx0pRCF"
      }
    },
    {
      "cell_type": "code",
      "source": [
        "death.index=death['Country Name']\n",
        "death_18=death['2018']#.sort_values(by='2018',ascending=False)\n",
        "death_18=death_18.sort_values(ascending=False)\n",
        "death5=death_18.loc[(death_18.index == death_18.index[0]) | (death_18.index == death_18.index[1]) | (death_18.index == death_18.index[2]) | (death_18.index == 'Mexico') | (death_18.index == death_18.loc[death_18 == min(death_18)].index[0])]\n",
        "# otra manera\n",
        "#death.sort_values('2018',inplace=True)\n",
        "#death.dropna(axis=0,subset=['2018'],inplace=True)\n",
        "#sample = pd.concat([death[death['Country Name']=='Mexico'],death[death['Country Name']=='United States'],death[-3:]])\n",
        "#sample.plot(kind='barh',x='Country Name',y='2018',title='Death rate 2018')"
      ],
      "metadata": {
        "id": "1FEwGZNokoUZ"
      },
      "execution_count": 129,
      "outputs": []
    },
    {
      "cell_type": "code",
      "source": [
        "sns.set_palette('Set2')\n",
        "sns.set_style('darkgrid')\n",
        "death5.sort_values(ascending=True, inplace=True)\n",
        "death5.plot(kind='barh',title='Death rate 2018')\n"
      ],
      "metadata": {
        "colab": {
          "base_uri": "https://localhost:8080/",
          "height": 469
        },
        "id": "B50kYb_bpylE",
        "outputId": "341e11c5-9e9c-451d-ae94-8f5e35cd214d"
      },
      "execution_count": 137,
      "outputs": [
        {
          "output_type": "execute_result",
          "data": {
            "text/plain": [
              "<Axes: title={'center': 'Death rate 2018'}, ylabel='Country Name'>"
            ]
          },
          "metadata": {},
          "execution_count": 137
        },
        {
          "output_type": "display_data",
          "data": {
            "text/plain": [
              "<Figure size 640x480 with 1 Axes>"
            ],
            "image/png": "[encoded data removed]"
          },
          "metadata": {}
        }
      ]
    },
    {
      "cell_type": "markdown",
      "source": [
        "Con el documento de **birth** para realizar un análisis de la tasa de natalidad en el 2018. Visualizar los resultados en un gráfico circular usando Matplotlib:"
      ],
      "metadata": {
        "id": "2KDTDKTB4DVp"
      }
    },
    {
      "cell_type": "code",
      "source": [
        "#birth.dropna(axis=0,subset=['2018'],inplace=True)"
      ],
      "metadata": {
        "id": "6Qz7Bfw-p3DF"
      },
      "execution_count": 141,
      "outputs": []
    },
    {
      "cell_type": "code",
      "source": [
        "\n",
        "sns.set_palette(\"Set1\")\n",
        "birth.dropna(axis=0,subset=['2018'],inplace=True)\n",
        "below_avg = len(birth[birth['2018'] < birth['2018'].mean()])\n",
        "count = [below_avg, len(birth['2018']) - below_avg]\n",
        "plt.pie(count,labels=['births < avg','births > average'],autopct='%1.1f%%')\n",
        "plt.title('Number of countries')"
      ],
      "metadata": {
        "colab": {
          "base_uri": "https://localhost:8080/",
          "height": 445
        },
        "id": "b6aRt58CwWrD",
        "outputId": "03a2485a-b0da-4589-84e4-98c32c26487c"
      },
      "execution_count": 145,
      "outputs": [
        {
          "output_type": "execute_result",
          "data": {
            "text/plain": [
              "Text(0.5, 1.0, 'Number of countries')"
            ]
          },
          "metadata": {},
          "execution_count": 145
        },
        {
          "output_type": "display_data",
          "data": {
            "text/plain": [
              "<Figure size 640x480 with 1 Axes>"
            ],
            "image/png": "[encoded data removed]"
          },
          "metadata": {}
        }
      ]
    }
  ]
}