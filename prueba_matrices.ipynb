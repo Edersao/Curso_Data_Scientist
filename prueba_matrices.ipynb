{
  "nbformat": 4,
  "nbformat_minor": 0,
  "metadata": {
    "colab": {
      "provenance": [],
      "toc_visible": true,
      "authorship_tag": "ABX9TyM7kP/ahuy99utm5gsOphJF",
      "include_colab_link": true
    },
    "kernelspec": {
      "name": "python3",
      "display_name": "Python 3"
    },
    "language_info": {
      "name": "python"
    }
  },
  "cells": [
    {
      "cell_type": "markdown",
      "metadata": {
        "id": "view-in-github",
        "colab_type": "text"
      },
      "source": [
        "<a href=\"https://colab.research.google.com/github/Edersao/Curso_Data_Scientist/blob/main/prueba_matrices.ipynb\" target=\"_parent\"><img src=\"https://colab.research.google.com/assets/colab-badge.svg\" alt=\"Open In Colab\"/></a>"
      ]
    },
    {
      "cell_type": "markdown",
      "source": [
        "Prueba: matrices"
      ],
      "metadata": {
        "id": "FT0rgOzdjGOn"
      }
    },
    {
      "cell_type": "markdown",
      "source": [
        "1. Crea un arreglo de numpy llamado listaDatos con los sgueintes valores:\n",
        "[45, 67, 23, 51, 89, 100, 23, 46, 57, 12, 1, 87, 23, 69, 33, 18, 87, 45, 73, 28]"
      ],
      "metadata": {
        "id": "R_gjkdkHjPpR"
      }
    },
    {
      "cell_type": "code",
      "source": [
        "import numpy as np"
      ],
      "metadata": {
        "id": "-0Y20nlFjOyz"
      },
      "execution_count": 1,
      "outputs": []
    },
    {
      "cell_type": "code",
      "source": [
        "listDatos=np.array([45, 67, 23, 51, 89, 100, 23, 46, 57, 12, 1, 87, 23, 69, 33, 18, 87, 45, 73, 28])"
      ],
      "metadata": {
        "id": "ghZxLVD8jfT1"
      },
      "execution_count": 8,
      "outputs": []
    },
    {
      "cell_type": "markdown",
      "source": [
        "2. Crea una matriz de numpy de 5x4 llamada matrizA con los sigueintes valores:\n",
        "[[34, 61, 0, 12], [98, 53, 76, 2], [19, 56, 87, 32], [100, 62, 91, 21], [84, 50,41, 3]]"
      ],
      "metadata": {
        "id": "bbmJQA5wjmXh"
      }
    },
    {
      "cell_type": "code",
      "source": [
        "matrizA= np.array([[34, 61, 0, 12], [98, 53, 76, 2], [19, 56, 87, 32], [100, 62, 91, 21], [84, 50,41, 3]])\n",
        "print(matrizA)"
      ],
      "metadata": {
        "colab": {
          "base_uri": "https://localhost:8080/"
        },
        "id": "lZuVTvx9kDOS",
        "outputId": "1509dfd5-8718-45cb-eb18-7bb2b901cfd4"
      },
      "execution_count": 9,
      "outputs": [
        {
          "output_type": "stream",
          "name": "stdout",
          "text": [
            "[[ 34  61   0  12]\n",
            " [ 98  53  76   2]\n",
            " [ 19  56  87  32]\n",
            " [100  62  91  21]\n",
            " [ 84  50  41   3]]\n"
          ]
        }
      ]
    },
    {
      "cell_type": "markdown",
      "source": [
        "3. Convierte el arreglo **listDatos** a una matriz 5x4 llamada matrizB."
      ],
      "metadata": {
        "id": "tdfqvCQMpXHr"
      }
    },
    {
      "cell_type": "code",
      "source": [
        "matrizB=listDatos.reshape(5,4)\n",
        "print(listDatos, matrizB, sep='\\n')"
      ],
      "metadata": {
        "colab": {
          "base_uri": "https://localhost:8080/"
        },
        "id": "2rbfmaixpktJ",
        "outputId": "9f7d17c1-0ae0-40b7-e69b-8e90ee549a0d"
      },
      "execution_count": 26,
      "outputs": [
        {
          "output_type": "stream",
          "name": "stdout",
          "text": [
            "[ 45  67  23  51  89 100  23  46  57  12   1  87  23  69  33  18  87  45\n",
            "  73  28]\n",
            "[[ 45  67  23  51]\n",
            " [ 89 100  23  46]\n",
            " [ 57  12   1  87]\n",
            " [ 23  69  33  18]\n",
            " [ 87  45  73  28]]\n"
          ]
        }
      ]
    },
    {
      "cell_type": "markdown",
      "source": [
        "4. Determina el valor mínimo y máximo de la matrizA."
      ],
      "metadata": {
        "id": "V1FnV150qyUu"
      }
    },
    {
      "cell_type": "code",
      "source": [
        "print(\"Valor minimo de la matrizA: \\n\", matrizA.min())\n",
        "print(\"Valor maximo de la matrizA: \\n\", matrizA.max())"
      ],
      "metadata": {
        "colab": {
          "base_uri": "https://localhost:8080/"
        },
        "id": "QznZzLqVq3Gy",
        "outputId": "537670c2-1721-42e3-9c76-76efad884a20"
      },
      "execution_count": 16,
      "outputs": [
        {
          "output_type": "stream",
          "name": "stdout",
          "text": [
            "Valor minimo de la matrizA: \n",
            " 0\n",
            "Valor maximo de la matrizA: \n",
            " 100\n"
          ]
        }
      ]
    },
    {
      "cell_type": "markdown",
      "source": [
        "5. Calcula el promedio de cada una de las columnas de la matrizA"
      ],
      "metadata": {
        "id": "oNIxBs8FrThR"
      }
    },
    {
      "cell_type": "code",
      "source": [
        "print(\"Valor promedio de columnas de la matrizA: \\n\", matrizA.mean(axis=0))"
      ],
      "metadata": {
        "colab": {
          "base_uri": "https://localhost:8080/"
        },
        "id": "tU9fQ5iarYZ_",
        "outputId": "66338904-bceb-4657-dcce-ecb3617a00bb"
      },
      "execution_count": 17,
      "outputs": [
        {
          "output_type": "stream",
          "name": "stdout",
          "text": [
            "Valor promedio de columnas de la matrizA: \n",
            " [67.  56.4 59.  14. ]\n"
          ]
        }
      ]
    },
    {
      "cell_type": "markdown",
      "source": [
        "6. Calcula la suma de todos los elementos de la segunda y tercera fila de la **matrizA**"
      ],
      "metadata": {
        "id": "Q_7nDTC9rnDF"
      }
    },
    {
      "cell_type": "code",
      "source": [
        "print(\"Suma de los elementos de la segunda fila: \\n\", matrizA[1].sum())\n",
        "print(\"Suma de los elementos de la tercera fila: \\n\", matrizA[2].sum())\n",
        "print(\"suma de los elemtos de la seugnda ya tercera fila: \\n\", matrizA[1].sum()+matrizA[2].sum())"
      ],
      "metadata": {
        "colab": {
          "base_uri": "https://localhost:8080/"
        },
        "id": "8NyRUWPbrsai",
        "outputId": "818bc166-789e-4034-f1d0-4f70c5a7477b"
      },
      "execution_count": 28,
      "outputs": [
        {
          "output_type": "stream",
          "name": "stdout",
          "text": [
            "Suma de los elementos de la segunda fila: \n",
            " 229\n",
            "Suma de los elementos de la tercera fila: \n",
            " 194\n",
            "suma de los elemtos de la seugnda ya tercera fila: \n",
            " 423\n",
            "875\n"
          ]
        }
      ]
    },
    {
      "cell_type": "markdown",
      "source": [
        "7. Suma las dos matrices"
      ],
      "metadata": {
        "id": "SU0RKyFjsfsx"
      }
    },
    {
      "cell_type": "code",
      "source": [
        "matrizA+matrizB"
      ],
      "metadata": {
        "colab": {
          "base_uri": "https://localhost:8080/"
        },
        "id": "fBE8UA9RsJ3e",
        "outputId": "9b8465a6-afa8-4e64-9243-0a02acd5858d"
      },
      "execution_count": 23,
      "outputs": [
        {
          "output_type": "execute_result",
          "data": {
            "text/plain": [
              "array([[ 79, 128,  23,  63],\n",
              "       [187, 153,  99,  48],\n",
              "       [ 76,  68,  88, 119],\n",
              "       [123, 131, 124,  39],\n",
              "       [171,  95, 114,  31]])"
            ]
          },
          "metadata": {},
          "execution_count": 23
        }
      ]
    },
    {
      "cell_type": "markdown",
      "source": [
        "8. Redimensiona la **matrizB** a un tamaño 4x5 y obtén la multimplicación de la **matrizA** por la **matrizB**"
      ],
      "metadata": {
        "id": "QFlbGRwrsuDH"
      }
    },
    {
      "cell_type": "code",
      "source": [
        "matrizB= matrizB.reshape(4,5)\n",
        "matrizA @ matrizB"
      ],
      "metadata": {
        "colab": {
          "base_uri": "https://localhost:8080/"
        },
        "id": "j1OANIP1s7GL",
        "outputId": "6b30c4b9-d937-4055-f649-e0d49ae57409"
      },
      "execution_count": 24,
      "outputs": [
        {
          "output_type": "execute_result",
          "data": {
            "text/plain": [
              "array([[ 7846,  4725,  4128,  6087,  4094],\n",
              "       [ 9822, 14571,  6530, 13409, 11922],\n",
              "       [ 7118, 12914,  6454, 12500,  6130],\n",
              "       [11169, 17870,  8190, 16446, 13235],\n",
              "       [ 8875, 10606,  5310, 10182,  9513]])"
            ]
          },
          "metadata": {},
          "execution_count": 24
        }
      ]
    },
    {
      "cell_type": "markdown",
      "source": [
        "9. Obten la transpuesta de la **matrizB**"
      ],
      "metadata": {
        "id": "1NWt2rpuuR2I"
      }
    },
    {
      "cell_type": "code",
      "source": [
        "print(matrizB.transpose())"
      ],
      "metadata": {
        "colab": {
          "base_uri": "https://localhost:8080/"
        },
        "id": "_VH3nrVzuVAP",
        "outputId": "2c6db61a-4aec-49c7-c344-a1b287684ea6"
      },
      "execution_count": 32,
      "outputs": [
        {
          "output_type": "stream",
          "name": "stdout",
          "text": [
            "[[ 45  89  57  23  87]\n",
            " [ 67 100  12  69  45]\n",
            " [ 23  23   1  33  73]\n",
            " [ 51  46  87  18  28]]\n"
          ]
        }
      ]
    }
  ]
}